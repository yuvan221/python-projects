{
  "nbformat": 4,
  "nbformat_minor": 0,
  "metadata": {
    "colab": {
      "provenance": [],
      "authorship_tag": "ABX9TyNTfu4Vlv8C+h2AhFGScVIX",
      "include_colab_link": true
    },
    "kernelspec": {
      "name": "python3",
      "display_name": "Python 3"
    },
    "language_info": {
      "name": "python"
    }
  },
  "cells": [
    {
      "cell_type": "markdown",
      "metadata": {
        "id": "view-in-github",
        "colab_type": "text"
      },
      "source": [
        "<a href=\"https://colab.research.google.com/github/yuvan221/python-projects/blob/main/chatbot.ipynb\" target=\"_parent\"><img src=\"https://colab.research.google.com/assets/colab-badge.svg\" alt=\"Open In Colab\"/></a>"
      ]
    },
    {
      "cell_type": "code",
      "execution_count": 1,
      "metadata": {
        "colab": {
          "base_uri": "https://localhost:8080/"
        },
        "id": "Sc-6qBjbV0Xu",
        "outputId": "cfe481ac-f9e8-48db-8cfc-31ddd10036a0"
      },
      "outputs": [
        {
          "output_type": "stream",
          "name": "stdout",
          "text": [
            ">hi\n",
            "hiii\n",
            ">what is python\n",
            "python is a programmable language\n",
            ">quit\n",
            "None\n",
            "hiii iam aitool ask me any help \n"
          ]
        }
      ],
      "source": [
        "from nltk.chat.util import Chat,reflections\n",
        "pairs=[\n",
        "    [r'hi',['hiii']],\n",
        "    [r'where did chatbot made',['by using nltk']],\n",
        "    [r'what is ur name',['my name is aitool']],\n",
        "    [r'what is python',['python is a programmable language']],\n",
        "    [r'what is nltk',['natural language toolkit']],\n",
        "    [r'what is the use of nltk',['it is a platform for building python to work with human language data']]\n",
        "\n",
        "]\n",
        "chat=Chat(pairs,reflections)\n",
        "chat.converse()\n",
        "def quit1():\n",
        "  print(\"hiii iam aitool ask me any help \")\n",
        "if __name__==\"__main__\":\n",
        "  quit1()\n"
      ]
    }
  ]
}